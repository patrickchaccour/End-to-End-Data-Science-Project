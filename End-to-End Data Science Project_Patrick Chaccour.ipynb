{
 "cells": [
  {
   "cell_type": "markdown",
   "id": "05512f14",
   "metadata": {},
   "source": [
    "# Loan Eligability Prediction Pipeline for Deutsche Bank\n",
    "\n",
    "In our generation, AI & Data Science are the core aspects of innovation. In fact, AI automates and speeds up lengthy, monote tasks that humans once performed. In the world of banking, such tools are vital. Dealing with millions of rows of financial data becomes impossible to do manually. \n",
    "\n",
    "As part of the data science and analytics team of Deutsche Bank here in Berlin, I plan to automate one of our most hectic and time-consuming tasks: Determing whether a candidate is eligable for a loan. Such a decision needs to take in count many aspects. Most importantly, the candidate must seem trustworthy enough to pay back the loan. \n",
    "\n",
    "Through the following pipeline and the provided data sets from the data collection team, I plan to study the patterns that make a candidate eligbale for a loan. \n",
    "\n",
    "I plan to do so by first understanding what type of data I'm dealing with. Second of all, I plan to prep the data sets for my robust system. After so, I will attempt to better understand the correlations between the data and the target variable. And finally, I will create the prediction model that will intake new data and decide whether the candidate is eligable for a loan.\n",
    "\n",
    "In more technical terms, find the agenda for the Loan Eligability Prediction Pipeline for Deutsche bank:\n",
    "\n",
    "> Pipeline Preperation: Importing Relevant Libraries\n",
    "\n",
    "> Data Introduction: Loading the Data Sets\n",
    "\n",
    "> Data Cleaning: Handling Missing Values\n",
    "\n",
    "> Data Preprocessing: OneHotEncoder\n",
    "\n",
    "> Exploratory Data Anlysis: Analysing the Correlations \n",
    "\n",
    "> Prediction Model: Logistic Regression\n",
    "\n",
    "> Predicition Model Comparaison: Support Vector Machine (SVM), Random Forest, and Gradient Boosting Machine (GBM)\n",
    "\n",
    "> Model Testing: Random Plug and Play\n",
    "\n",
    "### Pipeline Preperation: Importing Relevant Libraries"
   ]
  },
  {
   "cell_type": "code",
   "execution_count": 1,
   "id": "4ff21164",
   "metadata": {},
   "outputs": [],
   "source": [
    "import pandas as pd\n",
    "\n",
    "from sklearn.preprocessing import OneHotEncoder\n",
    "from sklearn.compose import ColumnTransformer\n",
    "\n",
    "from sklearn.preprocessing import LabelEncoder\n",
    "\n",
    "import matplotlib.pyplot as plt\n",
    "import seaborn as sns\n",
    "\n",
    "from sklearn.model_selection import train_test_split\n",
    "from sklearn.linear_model import LogisticRegression\n",
    "from sklearn.metrics import classification_report, accuracy_score, confusion_matrix\n",
    "import math \n",
    "\n",
    "from sklearn.svm import SVC\n",
    "from sklearn.ensemble import RandomForestClassifier, GradientBoostingClassifier\n",
    "\n",
    "import numpy as np\n",
    "from sklearn.preprocessing import StandardScaler"
   ]
  },
  {
   "cell_type": "markdown",
   "id": "f39a2a04",
   "metadata": {},
   "source": [
    "\n",
    "### Data Introduction: Loading the Data Sets"
   ]
  },
  {
   "cell_type": "code",
   "execution_count": 2,
   "id": "49b285d2",
   "metadata": {},
   "outputs": [
    {
     "data": {
      "text/html": [
       "<div>\n",
       "<style scoped>\n",
       "    .dataframe tbody tr th:only-of-type {\n",
       "        vertical-align: middle;\n",
       "    }\n",
       "\n",
       "    .dataframe tbody tr th {\n",
       "        vertical-align: top;\n",
       "    }\n",
       "\n",
       "    .dataframe thead th {\n",
       "        text-align: right;\n",
       "    }\n",
       "</style>\n",
       "<table border=\"1\" class=\"dataframe\">\n",
       "  <thead>\n",
       "    <tr style=\"text-align: right;\">\n",
       "      <th></th>\n",
       "      <th>Loan_ID</th>\n",
       "      <th>Gender</th>\n",
       "      <th>Married</th>\n",
       "      <th>Dependents</th>\n",
       "      <th>Education</th>\n",
       "      <th>Self_Employed</th>\n",
       "      <th>ApplicantIncome</th>\n",
       "      <th>CoapplicantIncome</th>\n",
       "      <th>LoanAmount</th>\n",
       "      <th>Loan_Amount_Term</th>\n",
       "      <th>Credit_History</th>\n",
       "      <th>Property_Area</th>\n",
       "      <th>Loan_Status</th>\n",
       "    </tr>\n",
       "  </thead>\n",
       "  <tbody>\n",
       "    <tr>\n",
       "      <th>0</th>\n",
       "      <td>LP001002</td>\n",
       "      <td>Male</td>\n",
       "      <td>No</td>\n",
       "      <td>0</td>\n",
       "      <td>Graduate</td>\n",
       "      <td>No</td>\n",
       "      <td>5849</td>\n",
       "      <td>0.0</td>\n",
       "      <td>NaN</td>\n",
       "      <td>360.0</td>\n",
       "      <td>1.0</td>\n",
       "      <td>Urban</td>\n",
       "      <td>Y</td>\n",
       "    </tr>\n",
       "    <tr>\n",
       "      <th>1</th>\n",
       "      <td>LP001003</td>\n",
       "      <td>Male</td>\n",
       "      <td>Yes</td>\n",
       "      <td>1</td>\n",
       "      <td>Graduate</td>\n",
       "      <td>No</td>\n",
       "      <td>4583</td>\n",
       "      <td>1508.0</td>\n",
       "      <td>128.0</td>\n",
       "      <td>360.0</td>\n",
       "      <td>1.0</td>\n",
       "      <td>Rural</td>\n",
       "      <td>N</td>\n",
       "    </tr>\n",
       "    <tr>\n",
       "      <th>2</th>\n",
       "      <td>LP001005</td>\n",
       "      <td>Male</td>\n",
       "      <td>Yes</td>\n",
       "      <td>0</td>\n",
       "      <td>Graduate</td>\n",
       "      <td>Yes</td>\n",
       "      <td>3000</td>\n",
       "      <td>0.0</td>\n",
       "      <td>66.0</td>\n",
       "      <td>360.0</td>\n",
       "      <td>1.0</td>\n",
       "      <td>Urban</td>\n",
       "      <td>Y</td>\n",
       "    </tr>\n",
       "    <tr>\n",
       "      <th>3</th>\n",
       "      <td>LP001006</td>\n",
       "      <td>Male</td>\n",
       "      <td>Yes</td>\n",
       "      <td>0</td>\n",
       "      <td>Not Graduate</td>\n",
       "      <td>No</td>\n",
       "      <td>2583</td>\n",
       "      <td>2358.0</td>\n",
       "      <td>120.0</td>\n",
       "      <td>360.0</td>\n",
       "      <td>1.0</td>\n",
       "      <td>Urban</td>\n",
       "      <td>Y</td>\n",
       "    </tr>\n",
       "    <tr>\n",
       "      <th>4</th>\n",
       "      <td>LP001008</td>\n",
       "      <td>Male</td>\n",
       "      <td>No</td>\n",
       "      <td>0</td>\n",
       "      <td>Graduate</td>\n",
       "      <td>No</td>\n",
       "      <td>6000</td>\n",
       "      <td>0.0</td>\n",
       "      <td>141.0</td>\n",
       "      <td>360.0</td>\n",
       "      <td>1.0</td>\n",
       "      <td>Urban</td>\n",
       "      <td>Y</td>\n",
       "    </tr>\n",
       "  </tbody>\n",
       "</table>\n",
       "</div>"
      ],
      "text/plain": [
       "    Loan_ID Gender Married Dependents     Education Self_Employed  \\\n",
       "0  LP001002   Male      No          0      Graduate            No   \n",
       "1  LP001003   Male     Yes          1      Graduate            No   \n",
       "2  LP001005   Male     Yes          0      Graduate           Yes   \n",
       "3  LP001006   Male     Yes          0  Not Graduate            No   \n",
       "4  LP001008   Male      No          0      Graduate            No   \n",
       "\n",
       "   ApplicantIncome  CoapplicantIncome  LoanAmount  Loan_Amount_Term  \\\n",
       "0             5849                0.0         NaN             360.0   \n",
       "1             4583             1508.0       128.0             360.0   \n",
       "2             3000                0.0        66.0             360.0   \n",
       "3             2583             2358.0       120.0             360.0   \n",
       "4             6000                0.0       141.0             360.0   \n",
       "\n",
       "   Credit_History Property_Area Loan_Status  \n",
       "0             1.0         Urban           Y  \n",
       "1             1.0         Rural           N  \n",
       "2             1.0         Urban           Y  \n",
       "3             1.0         Urban           Y  \n",
       "4             1.0         Urban           Y  "
      ]
     },
     "execution_count": 2,
     "metadata": {},
     "output_type": "execute_result"
    }
   ],
   "source": [
    "df = pd.read_csv('loan_sanction_train.csv')\n",
    "df.head()"
   ]
  },
  {
   "cell_type": "code",
   "execution_count": 3,
   "id": "5eccf592",
   "metadata": {},
   "outputs": [
    {
     "data": {
      "text/plain": [
       "Index(['Loan_ID', 'Gender', 'Married', 'Dependents', 'Education',\n",
       "       'Self_Employed', 'ApplicantIncome', 'CoapplicantIncome', 'LoanAmount',\n",
       "       'Loan_Amount_Term', 'Credit_History', 'Property_Area', 'Loan_Status'],\n",
       "      dtype='object')"
      ]
     },
     "execution_count": 3,
     "metadata": {},
     "output_type": "execute_result"
    }
   ],
   "source": [
    "df.columns"
   ]
  },
  {
   "cell_type": "markdown",
   "id": "3f732353",
   "metadata": {},
   "source": [
    "### Data Cleaning: Handling Missing Values"
   ]
  },
  {
   "cell_type": "code",
   "execution_count": 4,
   "id": "858ac2ad",
   "metadata": {},
   "outputs": [
    {
     "data": {
      "text/plain": [
       "Loan_ID               0\n",
       "Gender               13\n",
       "Married               3\n",
       "Dependents           15\n",
       "Education             0\n",
       "Self_Employed        32\n",
       "ApplicantIncome       0\n",
       "CoapplicantIncome     0\n",
       "LoanAmount           22\n",
       "Loan_Amount_Term     14\n",
       "Credit_History       50\n",
       "Property_Area         0\n",
       "Loan_Status           0\n",
       "dtype: int64"
      ]
     },
     "execution_count": 4,
     "metadata": {},
     "output_type": "execute_result"
    }
   ],
   "source": [
    "df.isnull().sum()"
   ]
  },
  {
   "cell_type": "code",
   "execution_count": 5,
   "id": "75acb0e0",
   "metadata": {},
   "outputs": [],
   "source": [
    "df.dropna(subset=['Gender', 'Married', 'Dependents', 'Self_Employed', \n",
    "                        \"LoanAmount\", \"Loan_Amount_Term\", \"Credit_History\"], inplace=True)"
   ]
  },
  {
   "cell_type": "code",
   "execution_count": 6,
   "id": "2405928d",
   "metadata": {},
   "outputs": [
    {
     "data": {
      "text/plain": [
       "0"
      ]
     },
     "execution_count": 6,
     "metadata": {},
     "output_type": "execute_result"
    }
   ],
   "source": [
    "df.duplicated(keep='first').sum()"
   ]
  },
  {
   "cell_type": "code",
   "execution_count": 7,
   "id": "9b06fd68",
   "metadata": {},
   "outputs": [
    {
     "data": {
      "text/plain": [
       "Loan_ID              0\n",
       "Gender               0\n",
       "Married              0\n",
       "Dependents           0\n",
       "Education            0\n",
       "Self_Employed        0\n",
       "ApplicantIncome      0\n",
       "CoapplicantIncome    0\n",
       "LoanAmount           0\n",
       "Loan_Amount_Term     0\n",
       "Credit_History       0\n",
       "Property_Area        0\n",
       "Loan_Status          0\n",
       "dtype: int64"
      ]
     },
     "execution_count": 7,
     "metadata": {},
     "output_type": "execute_result"
    }
   ],
   "source": [
    "df.isnull().sum()"
   ]
  },
  {
   "cell_type": "markdown",
   "id": "97b35574",
   "metadata": {},
   "source": [
    "### Data Preprocessing: OneHotEncoder"
   ]
  },
  {
   "cell_type": "code",
   "execution_count": 8,
   "id": "1c701af4",
   "metadata": {},
   "outputs": [
    {
     "name": "stdout",
     "output_type": "stream",
     "text": [
      "Categorical Columns: ['Loan_ID', 'Gender', 'Married', 'Dependents', 'Education', 'Self_Employed', 'Property_Area', 'Loan_Status']\n",
      "Numerical Columns: ['ApplicantIncome', 'CoapplicantIncome', 'LoanAmount', 'Loan_Amount_Term', 'Credit_History']\n"
     ]
    }
   ],
   "source": [
    "cat_columns = []\n",
    "num_columns = []\n",
    "\n",
    "for col in df.columns:\n",
    "    if df[col].dtype == 'int64' or df[col].dtype == 'float64':\n",
    "        num_columns.append(col)\n",
    "    else:\n",
    "        cat_columns.append(col)\n",
    "\n",
    "print(\"Categorical Columns:\", cat_columns)\n",
    "print(\"Numerical Columns:\", num_columns)\n"
   ]
  },
  {
   "cell_type": "code",
   "execution_count": 9,
   "id": "ce7355d0",
   "metadata": {},
   "outputs": [],
   "source": [
    "cat_columns.remove(\"Loan_ID\")\n",
    "cat_columns.remove(\"Loan_Status\")"
   ]
  },
  {
   "cell_type": "markdown",
   "id": "e6588dd4",
   "metadata": {},
   "source": [
    "The categorical and numerical columns in, both, the test and train data sets are the same. Meaning the train-test split previously done by the data collection team is correct and does not need further tuning.\n",
    "\n",
    "##### We must now onehot encode the categorical columns:\n",
    "\n"
   ]
  },
  {
   "cell_type": "code",
   "execution_count": 10,
   "id": "6237c6e3",
   "metadata": {},
   "outputs": [],
   "source": [
    "col_transformer = ColumnTransformer(transformers=[\n",
    "    ('cat_columns', OneHotEncoder(drop='first'), cat_columns)], remainder='passthrough')\n",
    "\n",
    "# Transforming the Datasets\n",
    "df_encoded = col_transformer.fit_transform(df.drop(columns=['Loan_Status', 'Loan_ID']))"
   ]
  },
  {
   "cell_type": "code",
   "execution_count": 11,
   "id": "fdb366eb",
   "metadata": {},
   "outputs": [
    {
     "data": {
      "text/plain": [
       "(480, 14)"
      ]
     },
     "execution_count": 11,
     "metadata": {},
     "output_type": "execute_result"
    }
   ],
   "source": [
    "le = LabelEncoder()\n",
    "df['Dependents'] = le.fit_transform(df['Dependents'])\n",
    "\n",
    "df_encoded.shape"
   ]
  },
  {
   "cell_type": "markdown",
   "id": "c08729bf",
   "metadata": {},
   "source": [
    "### Exploratory Data Anlysis: Analysing the Correlations \n",
    "\n",
    "We will begin by conducting a simple EDA by analysing the correlations between each column and the target variable (\"Loan_Status\")"
   ]
  },
  {
   "cell_type": "code",
   "execution_count": 12,
   "id": "2dbef17b",
   "metadata": {},
   "outputs": [
    {
     "data": {
      "image/png": "[encoded data removed]",
      "text/plain": [
       "<Figure size 2000x2200 with 6 Axes>"
      ]
     },
     "metadata": {},
     "output_type": "display_data"
    }
   ],
   "source": [
    "fig, axes = plt.subplots(3, 2, figsize=(20, 22))\n",
    "\n",
    "\n",
    "# 1) Gender vs Loan Status\n",
    "sns.countplot(ax = axes[0, 0], x = 'Gender', hue = 'Loan_Status', data = df)\n",
    "axes[0, 0].set_title('Gender vs Loan Status')\n",
    "\n",
    "# 2) Mariage Status vs Loan Status\n",
    "sns.countplot(ax = axes[0, 1], x = 'Married', hue = 'Loan_Status', data = df)\n",
    "axes[0, 1].set_title('Mariage Status vs Loan Status')\n",
    "\n",
    "# 3) Education vs Loan Status\n",
    "sns.countplot(ax = axes[1, 0], x ='Education', hue = 'Loan_Status', data = df)\n",
    "axes[1, 0].set_title('Education vs Loan Status')\n",
    "\n",
    "# 4) Credit History vs Loan Status\n",
    "sns.countplot(ax = axes[1, 1], x = 'Credit_History', hue = 'Loan_Status', data = df)\n",
    "axes[1, 1].set_title('Credit History vs Loan Status')\n",
    "\n",
    "# 5) Property Area vs Loan Status\n",
    "sns.countplot(ax = axes[2, 0], x = 'Property_Area', hue = 'Loan_Status', data = df)\n",
    "axes[2, 0].set_title('Property Area vs Loan Status')\n",
    "\n",
    "# 6) Total Income vs Loan Status\n",
    "df['Total_Income'] = df['ApplicantIncome'] + df['CoapplicantIncome']\n",
    "\n",
    "sns.histplot(ax = axes[2, 1], data = df, x = 'Total_Income', hue = 'Loan_Status', kde=True, element='step')\n",
    "axes[2, 1].set_title('Total Income vs Loan Status')\n",
    "\n",
    "plt.tight_layout()\n",
    "plt.show()"
   ]
  },
  {
   "cell_type": "markdown",
   "id": "8c3a52b7",
   "metadata": {},
   "source": [
    "Derived Insights:\n",
    "\n",
    "1) Gender vs Loan Status: There seems to be no signficant difference in loan eligablity between the genders. Infact, it appears that both genders have an approximate ratio of 2:1\n",
    "\n",
    "2) Mariage Status vs Loan Status: Married couple have a slight higher chance of loan approval than Unmarried couples\n",
    "\n",
    "3) Education vs Loan Status: People that graduate have a higher possibility to be eligable for a loan approval than non-graduates\n",
    "\n",
    "4) Credit History vs Loan Status: Candidates who have a credit history that satifies the guidelines we set have a remarkably higher chance for loan apprival. This indicates that if a candidate does not meet the guidelines, he will most likely get rejected immediately\n",
    "\n",
    "5) Property Area vs Loan Status: Semiurban areas appear to have the highest approval rates\n",
    "\n",
    "6) Total Income vs Loan Status: The higher the income the higher the chance for loan approval. However, the fact that there is a visable and considerable overlap suggest that this metric is not the only aspect to sole determinant\n"
   ]
  },
  {
   "cell_type": "markdown",
   "id": "49aa9e0b",
   "metadata": {},
   "source": [
    "### Prediction Model: Logistic Regression\n",
    "\n",
    "\n",
    "Choosing the Logistic Regression model is a strategic decision. It is ideal for binary classification. In this case, we find ourselves in a binary situation: Loan_Status = \"yes\" or \"no\"\n",
    "\n",
    "##### Binary Conversion:"
   ]
  },
  {
   "cell_type": "code",
   "execution_count": 13,
   "id": "ad0a9c2a",
   "metadata": {},
   "outputs": [
    {
     "data": {
      "text/plain": [
       "1      0\n",
       "2      1\n",
       "3      1\n",
       "4      1\n",
       "5      1\n",
       "      ..\n",
       "609    1\n",
       "610    1\n",
       "611    1\n",
       "612    1\n",
       "613    0\n",
       "Name: Loan_Status, Length: 480, dtype: int64"
      ]
     },
     "execution_count": 13,
     "metadata": {},
     "output_type": "execute_result"
    }
   ],
   "source": [
    "binary_conversion = df['Loan_Status'].apply(lambda x: 1 if x == 'Y' else 0) \n",
    "binary_conversion"
   ]
  },
  {
   "cell_type": "markdown",
   "id": "b7fee01e",
   "metadata": {},
   "source": [
    "##### Train-test Splitting: "
   ]
  },
  {
   "cell_type": "code",
   "execution_count": 14,
   "id": "5833213d",
   "metadata": {},
   "outputs": [],
   "source": [
    "X_train, X_test, y_train, y_test = train_test_split(df_encoded, binary_conversion, test_size=0.2, random_state=42)"
   ]
  },
  {
   "cell_type": "markdown",
   "id": "42702e32",
   "metadata": {},
   "source": [
    "##### Logistion Regression Implementation & Testing "
   ]
  },
  {
   "cell_type": "code",
   "execution_count": 15,
   "id": "ef552a4b",
   "metadata": {},
   "outputs": [],
   "source": [
    "LR_Model = LogisticRegression(max_iter=300, solver='lbfgs', random_state=42)\n",
    "LR_Model.fit(X_train, y_train)\n",
    "\n",
    "LR_prediction = LR_Model.predict(X_test)"
   ]
  },
  {
   "cell_type": "markdown",
   "id": "eda7a508",
   "metadata": {},
   "source": [
    "##### LR Model Evaluation"
   ]
  },
  {
   "cell_type": "code",
   "execution_count": 16,
   "id": "07bf2993",
   "metadata": {},
   "outputs": [
    {
     "name": "stdout",
     "output_type": "stream",
     "text": [
      "The accuracy score of the Logistic Regression Model is:  83 %\n",
      "              precision    recall  f1-score   support\n",
      "\n",
      "           0       1.00      0.39      0.56        28\n",
      "           1       0.80      1.00      0.89        68\n",
      "\n",
      "    accuracy                           0.82        96\n",
      "   macro avg       0.90      0.70      0.73        96\n",
      "weighted avg       0.86      0.82      0.79        96\n",
      "\n"
     ]
    }
   ],
   "source": [
    "LR_accuracy = accuracy_score(y_test, LR_prediction)\n",
    "scoring = classification_report(y_test, LR_prediction)\n",
    "\n",
    "print(\"The accuracy score of the Logistic Regression Model is: \", math.ceil(LR_accuracy*100), \"%\")\n",
    "print(scoring)"
   ]
  },
  {
   "cell_type": "markdown",
   "id": "c7b803b2",
   "metadata": {},
   "source": [
    "### Predicition Model Comparaison: Support Vector Machine (SVM), Random Forest, and Gradient Boosting Machine (GBM)\n",
    "\n",
    "The SVM, Random Forest, and GBM are models that also work very well in binary classification. As our end goal is for this robust system to take over the dreadful task of manually studying and deciding whether a candidate is eligable for a loan or not, we opt to use the best, most efficient, and accurate model.\n",
    "\n",
    "##### SVM:"
   ]
  },
  {
   "cell_type": "code",
   "execution_count": 17,
   "id": "952d3482",
   "metadata": {},
   "outputs": [],
   "source": [
    "SVM_Model = SVC(probability=True, random_state=42)\n",
    "SVM_Model.fit(X_train, y_train)\n",
    "\n",
    "SVM_Prediction = SVM_Model.predict(X_test)\n",
    "SVM_accuracy = accuracy_score(y_test, SVM_Prediction)"
   ]
  },
  {
   "cell_type": "markdown",
   "id": "9d6077cc",
   "metadata": {},
   "source": [
    "##### Random Forest:"
   ]
  },
  {
   "cell_type": "code",
   "execution_count": 18,
   "id": "3bb311ab",
   "metadata": {},
   "outputs": [],
   "source": [
    "RF_Model = RandomForestClassifier(n_estimators=100, random_state=42)\n",
    "RF_Model.fit(X_train, y_train)\n",
    "\n",
    "RF_Model_Predicition = RF_Model.predict(X_test)\n",
    "RF_accuracy = accuracy_score(y_test, RF_Model_Predicition)"
   ]
  },
  {
   "cell_type": "markdown",
   "id": "501a273e",
   "metadata": {},
   "source": [
    "##### GBM:"
   ]
  },
  {
   "cell_type": "code",
   "execution_count": 19,
   "id": "65a9bcd0",
   "metadata": {},
   "outputs": [],
   "source": [
    "GBM_Model = GradientBoostingClassifier(n_estimators=100, random_state=42)\n",
    "GBM_Model.fit(X_train, y_train)\n",
    "\n",
    "GBM_Model_Prediction = GBM_Model.predict(X_test)\n",
    "GBM_accuracy = accuracy_score(y_test, GBM_Model_Prediction)"
   ]
  },
  {
   "cell_type": "markdown",
   "id": "a5ed075e",
   "metadata": {},
   "source": [
    "##### Accuracy Score Round up"
   ]
  },
  {
   "cell_type": "code",
   "execution_count": 20,
   "id": "f276139a",
   "metadata": {},
   "outputs": [],
   "source": [
    "LR_accuracy_RU = math.ceil(LR_accuracy*100)\n",
    "SVM_accuracy_RU = math.ceil(SVM_accuracy*100)\n",
    "RF_accuracy_RU = math.ceil(RF_accuracy*100)\n",
    "GBM_accuracy_RU = math.ceil(GBM_accuracy*100)"
   ]
  },
  {
   "cell_type": "markdown",
   "id": "770be5dd",
   "metadata": {},
   "source": [
    "##### Model Evaluation & Comparaison"
   ]
  },
  {
   "cell_type": "code",
   "execution_count": 21,
   "id": "1d6f4181",
   "metadata": {},
   "outputs": [
    {
     "name": "stdout",
     "output_type": "stream",
     "text": [
      "Logistic Regression Accuracy: 83 %\n",
      "SVM Accuracy: 71 %\n",
      "Random Forest Accuracy: 82 %\n",
      "Gradient Boosting Machine Accuracy: 79 %\n"
     ]
    }
   ],
   "source": [
    "print(\"Logistic Regression Accuracy:\", LR_accuracy_RU, \"%\")\n",
    "print(\"SVM Accuracy:\", SVM_accuracy_RU, \"%\")\n",
    "print(\"Random Forest Accuracy:\", RF_accuracy_RU, \"%\")\n",
    "print(\"Gradient Boosting Machine Accuracy:\", GBM_accuracy_RU, \"%\")"
   ]
  },
  {
   "cell_type": "code",
   "execution_count": 22,
   "id": "492518a7",
   "metadata": {},
   "outputs": [
    {
     "name": "stdout",
     "output_type": "stream",
     "text": [
      "The best model for the pipeline is the Logistic Regression Model\n"
     ]
    }
   ],
   "source": [
    "best_model_score = max(LR_accuracy, SVM_accuracy, RF_accuracy, GBM_accuracy)\n",
    "\n",
    "Model_dictionary = {\"Logistic Regression Model\": LR_accuracy, \n",
    "                    \"SVM Model\": SVM_accuracy,\n",
    "                    \"Random Forest Model\": RF_accuracy,\n",
    "                    \"GBM Model\": GBM_accuracy}\n",
    "\n",
    "bestmodel = \" \"\n",
    "for model, accuracy in Model_dictionary.items():\n",
    "    if accuracy == best_model_score:\n",
    "        print(\"The best model for the pipeline is the\", model) \n",
    "        BestModel = model"
   ]
  },
  {
   "cell_type": "markdown",
   "id": "3a5fe7da",
   "metadata": {},
   "source": [
    "### Model Testing: Random Plug and Play\n",
    "To test out the model, I decided to create function that generates a randomized dataset, based on the originial dataset columns, where each column is given a random variable. Once that is executed, we will then run the best prediction model, and find out whether the candidate is eligable for a loan or not  \n",
    "\n",
    "##### Creating the Random DataSet Generator Function"
   ]
  },
  {
   "cell_type": "code",
   "execution_count": 40,
   "id": "c2e8eff4",
   "metadata": {},
   "outputs": [],
   "source": [
    "def Random_Data_Generation(col_transformer):\n",
    "    Randomized_Candidate = {'Gender': [np.random.choice(['Male', 'Female'])],\n",
    "                   'Married': [np.random.choice(['Yes', 'No'])],\n",
    "                   'Dependents': [str(np.random.choice([0, 1, 2, '3+']))],\n",
    "                   'Education': [np.random.choice(['Graduate', 'Not Graduate'])],\n",
    "                   'Self_Employed': [np.random.choice(['Yes', 'No'])],\n",
    "                   'ApplicantIncome': [np.random.randint(1500, 15000)],\n",
    "                   'CoapplicantIncome': [np.random.randint(0, 10000)],\n",
    "                   'LoanAmount': [np.random.randint(50, 700)],\n",
    "                   'Loan_Amount_Term': [np.random.choice([360, 180, 300, 240, 120])],\n",
    "                   'Credit_History': [np.random.choice([0.0, 1.0])],\n",
    "                   'Property_Area': [np.random.choice(['Urban', 'Semiurban', 'Rural'])]}\n",
    "    \n",
    "    random_df = pd.DataFrame(Randomized_Candidate)\n",
    "    random_encoded = col_transformer.transform(random_df)\n",
    "    \n",
    "    return random_df, random_encoded"
   ]
  },
  {
   "cell_type": "markdown",
   "id": "2c737804",
   "metadata": {},
   "source": [
    "##### Best Model Recall"
   ]
  },
  {
   "cell_type": "code",
   "execution_count": 41,
   "id": "dd200ed8",
   "metadata": {},
   "outputs": [],
   "source": [
    "Model_dictionary2 = {\"Logistic Regression Model\": LR_Model, \n",
    "                    \"SVM Model\": SVM_Model,\n",
    "                    \"Random Forest Model\": RF_Model,\n",
    "                    \"GBM Model\": GBM_Model}\n",
    "\n",
    "if BestModel in Model_dictionary2:\n",
    "    Model_to_use = Model_dictionary2[BestModel]"
   ]
  },
  {
   "cell_type": "markdown",
   "id": "7baee7b2",
   "metadata": {},
   "source": [
    "##### Candidate Eligibility Function"
   ]
  },
  {
   "cell_type": "code",
   "execution_count": 42,
   "id": "2280331d",
   "metadata": {},
   "outputs": [],
   "source": [
    "def Candidate_Eligibility_Function(Model_to_use, random_encoded):\n",
    "    prediction = Model_to_use.predict(random_encoded)\n",
    "    return \"APPROVED\" if prediction[0] == 1 else \"DENIED\"\n",
    "\n",
    "random_df, random_encoded = Random_Data_Generation(col_transformer)\n",
    "eligibility = Candidate_Eligibility_Function(LR_Model, random_encoded)"
   ]
  },
  {
   "cell_type": "markdown",
   "id": "90ecfdfd",
   "metadata": {},
   "source": [
    "##### Reading the Results"
   ]
  },
  {
   "cell_type": "code",
   "execution_count": 43,
   "id": "6f054545",
   "metadata": {},
   "outputs": [],
   "source": [
    "random_df['Candidate'] = 'Randomized Candidate'\n",
    "random_df['Loan_Status'] = eligibility"
   ]
  },
  {
   "cell_type": "code",
   "execution_count": 44,
   "id": "27867521",
   "metadata": {},
   "outputs": [
    {
     "data": {
      "text/html": [
       "<div>\n",
       "<style scoped>\n",
       "    .dataframe tbody tr th:only-of-type {\n",
       "        vertical-align: middle;\n",
       "    }\n",
       "\n",
       "    .dataframe tbody tr th {\n",
       "        vertical-align: top;\n",
       "    }\n",
       "\n",
       "    .dataframe thead th {\n",
       "        text-align: right;\n",
       "    }\n",
       "</style>\n",
       "<table border=\"1\" class=\"dataframe\">\n",
       "  <thead>\n",
       "    <tr style=\"text-align: right;\">\n",
       "      <th></th>\n",
       "      <th>Candidate</th>\n",
       "      <th>Gender</th>\n",
       "      <th>Married</th>\n",
       "      <th>Dependents</th>\n",
       "      <th>Education</th>\n",
       "      <th>Self_Employed</th>\n",
       "      <th>ApplicantIncome</th>\n",
       "      <th>CoapplicantIncome</th>\n",
       "      <th>LoanAmount</th>\n",
       "      <th>Loan_Amount_Term</th>\n",
       "      <th>Credit_History</th>\n",
       "      <th>Property_Area</th>\n",
       "      <th>Loan_Status</th>\n",
       "    </tr>\n",
       "  </thead>\n",
       "  <tbody>\n",
       "    <tr>\n",
       "      <th>0</th>\n",
       "      <td>Randomized Candidate</td>\n",
       "      <td>Male</td>\n",
       "      <td>No</td>\n",
       "      <td>2</td>\n",
       "      <td>Not Graduate</td>\n",
       "      <td>No</td>\n",
       "      <td>9676</td>\n",
       "      <td>2566</td>\n",
       "      <td>537</td>\n",
       "      <td>300</td>\n",
       "      <td>1.0</td>\n",
       "      <td>Urban</td>\n",
       "      <td>DENIED</td>\n",
       "    </tr>\n",
       "  </tbody>\n",
       "</table>\n",
       "</div>"
      ],
      "text/plain": [
       "              Candidate Gender Married Dependents     Education Self_Employed  \\\n",
       "0  Randomized Candidate   Male      No          2  Not Graduate            No   \n",
       "\n",
       "   ApplicantIncome  CoapplicantIncome  LoanAmount  Loan_Amount_Term  \\\n",
       "0             9676               2566         537               300   \n",
       "\n",
       "   Credit_History Property_Area Loan_Status  \n",
       "0             1.0         Urban      DENIED  "
      ]
     },
     "execution_count": 44,
     "metadata": {},
     "output_type": "execute_result"
    }
   ],
   "source": [
    "ordered_columns = ['Candidate'] + [col for col in random_df.columns if col not in ['Candidate', 'Loan_Status']] + ['Loan_Status']\n",
    "random_df = random_df[ordered_columns]\n",
    "\n",
    "random_df.head()\n"
   ]
  },
  {
   "cell_type": "code",
   "execution_count": 45,
   "id": "77dd8b30",
   "metadata": {},
   "outputs": [
    {
     "name": "stdout",
     "output_type": "stream",
     "text": [
      "Hello Randomized Candidate. We would like to inform you that your Loan Request is DENIED\n"
     ]
    }
   ],
   "source": [
    "#Message to send the candidate: \n",
    "print(\"Hello \" + random_df['Candidate'].iloc[0] + \". We would like to inform you that your Loan Request is \" + eligibility)"
   ]
  },
  {
   "cell_type": "code",
   "execution_count": null,
   "id": "cb4a6b99",
   "metadata": {},
   "outputs": [],
   "source": []
  }
 ],
 "metadata": {
  "kernelspec": {
   "display_name": "Python 3 (ipykernel)",
   "language": "python",
   "name": "python3"
  },
  "language_info": {
   "codemirror_mode": {
    "name": "ipython",
    "version": 3
   },
   "file_extension": ".py",
   "mimetype": "text/x-python",
   "name": "python",
   "nbconvert_exporter": "python",
   "pygments_lexer": "ipython3",
   "version": "3.9.13"
  }
 },
 "nbformat": 4,
 "nbformat_minor": 5
}
